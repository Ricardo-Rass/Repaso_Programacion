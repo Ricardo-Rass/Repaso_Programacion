{
 "cells": [
  {
   "cell_type": "code",
   "execution_count": 1,
   "metadata": {},
   "outputs": [
    {
     "name": "stdout",
     "output_type": "stream",
     "text": [
      "['puto', 'imbecil', 'mierda']\n"
     ]
    }
   ],
   "source": [
    "a=[\"puto\",\"imbecil\",\"mierda\"]\n",
    "\n",
    "print(a[0:3])"
   ]
  },
  {
   "cell_type": "code",
   "execution_count": 2,
   "metadata": {},
   "outputs": [
    {
     "name": "stdout",
     "output_type": "stream",
     "text": [
      "puto\n",
      "imbecil\n",
      "mierda\n",
      "['puto', 'imbecil', 'mierda']\n",
      "['puto', 'imbecil', 'mierda']\n",
      "['puto', 'imbecil', 'mierda']\n"
     ]
    }
   ],
   "source": [
    "lista=[\"puto\",\"imbecil\",\"mierda\"]\n",
    "\n",
    "for element in lista:\n",
    "    print(element)\n",
    "\n",
    "for element in lista:\n",
    "    print(lista)   "
   ]
  },
  {
   "cell_type": "code",
   "execution_count": null,
   "metadata": {},
   "outputs": [],
   "source": [
    "#Dadas 2 cuerdas, a y b, devuelva una cadena de la forma short+long+short, con la cuerda más corta en el exterior y la cuerda más larga en el interior. Las cuerdas no tendrán la misma longitud, pero pueden estar vacías (longitud 0).\n",
    "\n",
    "#combo_string('Hola', 'hola') → 'hiHellohi'combo_string\n",
    "#('hola', 'Hola') → 'hiHellohi'combo_string\n",
    "#('aaa', 'b') → 'baaab'\n",
    "\n",
    "def combo_string(a,b):\n",
    "    if len(a) > len(b):\n",
    "        print(a,b)\n",
    "    return a + b + a  \n",
    "\n",
    "combo_string(\"aaa\",\"b\")   "
   ]
  },
  {
   "cell_type": "code",
   "execution_count": 14,
   "metadata": {},
   "outputs": [
    {
     "name": "stdout",
     "output_type": "stream",
     "text": [
      "hola1\n",
      "hola2\n",
      "hola3\n",
      "0\n",
      "1\n",
      "2\n",
      "hola1\n",
      "hola2\n",
      "hola3\n"
     ]
    }
   ],
   "source": [
    "lista = ['hola1', 'hola2', 'hola3']\n",
    "\n",
    "for i in lista:\n",
    "    print(i)\n",
    "\n",
    "\n",
    "for i in range(len(lista)):\n",
    "    print(i)\n",
    "\n",
    "\n",
    "for i in range(len(lista)):\n",
    "    print(lista[i])     \n"
   ]
  },
  {
   "cell_type": "code",
   "execution_count": 19,
   "metadata": {},
   "outputs": [
    {
     "name": "stdout",
     "output_type": "stream",
     "text": [
      "798\n",
      "798\n"
     ]
    }
   ],
   "source": [
    "#Sumar lista\n",
    "\n",
    "e_list = [32, 55, 710, 1]\n",
    "\n",
    "total = 0\n",
    "\n",
    "\n",
    "#Opcion 1 \n",
    "for i in e_list:\n",
    "    total+= i\n",
    "    \n",
    "print(total)\n",
    "\n",
    "#Opcion 2    \n",
    "print(sum(e_list))"
   ]
  },
  {
   "cell_type": "code",
   "execution_count": 9,
   "metadata": {},
   "outputs": [
    {
     "data": {
      "text/plain": [
       "99"
      ]
     },
     "execution_count": 9,
     "metadata": {},
     "output_type": "execute_result"
    }
   ],
   "source": [
    "#Ejercicio: Encontrar segundo numero mas largo.\n",
    "\n",
    "#copy() copia una lista\n",
    "#sort() ordena la lista de forma ascendente\n",
    "\n",
    "list_of_numbers = [2, 2, 1, 3, 4, 100, 99]\n",
    "list_of_numbers_empty = []  \n",
    "\n",
    "def SegundoNumeroLargo(list):\n",
    "    if not list:\n",
    "        print(\"[]\")  \n",
    "    else:     \n",
    "        list.sort()   \n",
    "        list.pop() \n",
    "        a = list\n",
    "        return max(a)\n",
    "    \n",
    "\n",
    "\n",
    "\n",
    "\n",
    "\n",
    "\n",
    "\n",
    "SegundoNumeroLargo(list_of_numbers)\n",
    "\n",
    "\n",
    "\n",
    "\n",
    "\n",
    "\n"
   ]
  }
 ],
 "metadata": {
  "kernelspec": {
   "display_name": "Python 3.10.5 64-bit",
   "language": "python",
   "name": "python3"
  },
  "language_info": {
   "codemirror_mode": {
    "name": "ipython",
    "version": 3
   },
   "file_extension": ".py",
   "mimetype": "text/x-python",
   "name": "python",
   "nbconvert_exporter": "python",
   "pygments_lexer": "ipython3",
   "version": "3.10.5"
  },
  "orig_nbformat": 4,
  "vscode": {
   "interpreter": {
    "hash": "79e2c953b88fc71b6c3c1dbda58af322da5a9c58bab14d6cfec9d635fb737f03"
   }
  }
 },
 "nbformat": 4,
 "nbformat_minor": 2
}
