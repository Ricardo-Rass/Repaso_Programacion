{
 "cells": [
  {
   "cell_type": "markdown",
   "metadata": {},
   "source": [
    "#Ejercicio: Encontrar segundo numero mas largo. (y si la lista esta vacia o solo hay un dato debe retornar \"None\")\n"
   ]
  },
  {
   "cell_type": "code",
   "execution_count": 2,
   "metadata": {},
   "outputs": [
    {
     "data": {
      "text/plain": [
       "99"
      ]
     },
     "execution_count": 2,
     "metadata": {},
     "output_type": "execute_result"
    }
   ],
   "source": [
    " \n",
    "#copy() copia una lista\n",
    "#sort() ordena la lista de forma ascendente\n",
    "\n",
    "list_of_numbers = [1, 3, 4, 5, 0, -2 , 100, 99]\n",
    "\n",
    "\n",
    "def SegundoNumeroLargo(list):\n",
    "    #si la lista esta vacia o solo hay 1 dato imprime 'None'.\n",
    "    if len(list) == 0 or len(list) == 1 :\n",
    "        print(\"En este caso debe ser -> None\")  \n",
    "    else:\n",
    "        #si no\n",
    "        #ordena la lista en ascendente     \n",
    "        list.sort()   \n",
    "        #Elimina el numero mas grande.(dejando asi el segundo numero como el mas grande ya que anteriormente el sort() los ordeno ascendentemente) \n",
    "        list.pop() \n",
    "        #guardamos la lista nueva en la variable\n",
    "        a = list\n",
    "        max(a)\n",
    "        return max(a)\n",
    "    \n",
    "\n",
    "SegundoNumeroLargo(list_of_numbers)\n"
   ]
  },
  {
   "cell_type": "markdown",
   "metadata": {},
   "source": [
    "#Ejercicio: Funcion que tome 2 palabras y retorne TRUE si son Reversos.  Ejemplo 'abc' y 'cba' son reversos."
   ]
  },
  {
   "cell_type": "markdown",
   "metadata": {},
   "source": [
    "Solucion (Yo)"
   ]
  },
  {
   "cell_type": "code",
   "execution_count": 3,
   "metadata": {},
   "outputs": [
    {
     "data": {
      "text/plain": [
       "True"
      ]
     },
     "execution_count": 3,
     "metadata": {},
     "output_type": "execute_result"
    }
   ],
   "source": [
    "\n",
    "#PASOS PARA RESOLVER\n",
    "\n",
    "# 1.- Crear funcion que convierta la palabra Original a Reverse\n",
    "def PalabraOriginal_To_Reverse(Palabra_Original):\n",
    "  return Palabra_Original[::-1]\n",
    "  \n",
    "# 2.- Crear funcion que Compare la palabra Original con la Reverse\n",
    "# 3.- Dentro de la funcion ' are_reverses() ' Guardamos la palabra ORIGINAL convertida en REVERSE de la FUNCION anterior (' PalabraOriginal_To_Reverse()' )\n",
    "# 4.- La 'Palabra Convertida' la comparamos con la 'Palabra Reverse' que ingresamos como segundo parametro de la funcion ' are_reverses () '\n",
    "# 5.- Si resultan ser las mismas la PALABRA CONVERTIDA y la PALABRA REVERSE ingresada, retornara TRUE\n",
    "\n",
    "def are_reverses (Palabra_Original, Palabra_Reverse):\n",
    "    Palabra_Convertido_Reverse = PalabraOriginal_To_Reverse(Palabra_Original) \n",
    "    if Palabra_Reverse == Palabra_Convertido_Reverse:\n",
    "        return True\n",
    "    else:\n",
    "        return False   \n",
    "\n",
    "are_reverses (\"abc\", \"cba\")\n",
    "  "
   ]
  },
  {
   "cell_type": "markdown",
   "metadata": {},
   "source": [
    "Solucion (Video)"
   ]
  },
  {
   "cell_type": "code",
   "execution_count": 4,
   "metadata": {},
   "outputs": [
    {
     "data": {
      "text/plain": [
       "True"
      ]
     },
     "execution_count": 4,
     "metadata": {},
     "output_type": "execute_result"
    }
   ],
   "source": [
    "# revisar si el primer caracter y el ultimo caracter son iguales                ->             ('Abc' y 'cbA')\n",
    "# despues el segundo caracter del 'primer string' y el segundo caracter del 'segundo string' -> ('aBc' y 'cBa')\n",
    "# despues el ULTIMO caracter del primer string y despues el PRIMER caracter del segundo string -> ('abC' y 'Cba')\n",
    "\n",
    "def are_reverses(Palabra_Original, Palabra_Reverse):\n",
    "    for i in range(len(Palabra_Original)):\n",
    "        #Compara los caracteres\n",
    "        i2 = len(Palabra_Reverse) - i - 1\n",
    "        if Palabra_Original[i] != Palabra_Reverse[i2]:\n",
    "            #no son reversos\n",
    "            return False\n",
    "    #si son reversos        \n",
    "    return True\n",
    "\n",
    "are_reverses('abc', 'cba')    "
   ]
  },
  {
   "cell_type": "markdown",
   "metadata": {},
   "source": [
    "#Ejercicio: Recibes 2 Strings que representan dos enteros (Ejemplo '1232' y '201'). Escribe una funcion que compare estos 2 strings como numeros.\n",
    "\n",
    "Devuelve TRUE si el primer numero es MAYOR que el segundo numero.\n",
    " ---larger_than('1232', '201') -> TRUE---   \n",
    "Devuelve FALSE si el primero es MENOR que el segundo numero. \n",
    " ---larger_than('202', '232') -> FALSE ---      "
   ]
  },
  {
   "cell_type": "code",
   "execution_count": 1,
   "metadata": {},
   "outputs": [
    {
     "data": {
      "text/plain": [
       "True"
      ]
     },
     "execution_count": 1,
     "metadata": {},
     "output_type": "execute_result"
    }
   ],
   "source": [
    "#NO USAR int(str)\n",
    "\n",
    "def larger_than(string1, string2):\n",
    "    #Primero se revisa si la longitud es mayo o menor. si es mayor es mas grande si es menor es mas pequena\n",
    "    if len(string1) > len(string2):\n",
    "        return True\n",
    "    if len(string1) < len(string2): \n",
    "        return False  \n",
    "\n",
    "    #Si son iguales las longitudes debemos revisar elemento por elemento con un ciclo FOR\n",
    "    for element in range(len(string1)):\n",
    "        #si son iguales imprimos\n",
    "        if string1[element] == string2[element]:\n",
    "            continue\n",
    "        #si es mayor TRUE\n",
    "        if string1[element] > string2[element]:\n",
    "            return True\n",
    "        #si no False    \n",
    "        else:\n",
    "            return False\n",
    "    return False #son EQUIVALENTES y retorna FALSE\n",
    "  \n",
    "\n",
    "larger_than('2', '1')    "
   ]
  },
  {
   "cell_type": "markdown",
   "metadata": {},
   "source": [
    "Ejemplo: Recorrer Matriz bidimensional"
   ]
  },
  {
   "cell_type": "markdown",
   "metadata": {},
   "source": [
    "Opcion 1"
   ]
  },
  {
   "cell_type": "code",
   "execution_count": 16,
   "metadata": {},
   "outputs": [
    {
     "name": "stdout",
     "output_type": "stream",
     "text": [
      "1\n",
      "3\n",
      "9\n",
      "4\n",
      "5\n",
      "0\n",
      "8\n",
      "-3\n"
     ]
    }
   ],
   "source": [
    "a = [[1, 3, 9, 4], [5, 0, 8, -3]]\n",
    "\n",
    "for fila in a:\n",
    "    for item in fila:\n",
    "        print(item)"
   ]
  },
  {
   "cell_type": "markdown",
   "metadata": {},
   "source": [
    "Opcion 2"
   ]
  },
  {
   "cell_type": "code",
   "execution_count": 1,
   "metadata": {},
   "outputs": [
    {
     "name": "stdout",
     "output_type": "stream",
     "text": [
      "1\n",
      "3\n",
      "9\n",
      "4\n",
      "5\n",
      "0\n",
      "8\n",
      "-3\n"
     ]
    }
   ],
   "source": [
    "lista = [[1, 3, 9, 4], [5, 0, 8, -3]]\n",
    "\n",
    "for fila in range(len(lista)):\n",
    "    for item in range(len(lista[fila])):\n",
    "        print(lista[fila][item]) "
   ]
  },
  {
   "cell_type": "markdown",
   "metadata": {},
   "source": [
    "Ejercicio: Dado un Array 2D con el mismo numero de columnas y filas. Escribe una funcion que agregue los elementos en diagonal y los Sume."
   ]
  },
  {
   "cell_type": "code",
   "execution_count": 3,
   "metadata": {},
   "outputs": [
    {
     "data": {
      "text/plain": [
       "16"
      ]
     },
     "execution_count": 3,
     "metadata": {},
     "output_type": "execute_result"
    }
   ],
   "source": [
    "lista = [[1, 2, 3, 1],\n",
    "        [4, 5, 6, 1],\n",
    "        [7, 8, 9, 1],\n",
    "        [7, 8, 9, 1]]\n",
    "\n",
    "def diagonal_sum(given_array):\n",
    "    total = 0\n",
    "    for i in range(len(given_array)):\n",
    "        #es como hacer lista[0][1]\n",
    "        #donde 0 es el indice de la primera fila y el 1 es el indice del segundo numero que esta dentro de la primera fila.\n",
    "        total = total + given_array[i][i] #para identificar que es una diagonal los indices de la columna y filas tienen que ser iguales.\n",
    "        #Ejemplo -> [i][i] -> giver_array[i][i]\n",
    "    return total\n",
    "\n",
    "diagonal_sum(lista)"
   ]
  },
  {
   "cell_type": "markdown",
   "metadata": {},
   "source": [
    "# Ejercicio: Dado una tabla de ajedrez verificar si las torres estan a salvo o en peligro\n"
   ]
  },
  {
   "cell_type": "code",
   "execution_count": 45,
   "metadata": {},
   "outputs": [
    {
     "data": {
      "text/plain": [
       "True"
      ]
     },
     "execution_count": 45,
     "metadata": {},
     "output_type": "execute_result"
    }
   ],
   "source": [
    "#LAS TORRES SE IDENTIFICAN COMO '1'\n",
    "#SI ESTAN EN LA MISMA FILA O COLUMNA ESTAN EN PELIGRO SI NO ESTAN A SALVO\n",
    "#A SALVO = TRUE Y EN PELIGRO = FALSE\n",
    "\n",
    "\n",
    "\n",
    "def rooks_are_safe(configuration_Board):\n",
    "    n = len(configuration_Board)\n",
    "\n",
    "    #este FOR nos da cada indice de fila \n",
    "    for fila_index in range(n):\n",
    "        #contamos el numero de torres que encontremos en cada fila\n",
    "        fila_count = 0\n",
    "\n",
    "        #Este FOR repasa cada item en la fila\n",
    "        for columna_index in range(n):\n",
    "            #configuration_Board[fila_index][columna_index] -> nos indica la posicion en la que nos encontramos \n",
    "            # y si en la posicion en la que nos encontramos hay un '1' se suma y se guarda en 'fila_count'\n",
    "            fila_count = fila_count + configuration_Board[fila_index][columna_index]\n",
    "        #si hay mas de un '1' significa que las torres estan en PELIGRO\n",
    "        if fila_count > 1:\n",
    "            #y retorna false\n",
    "            return False\n",
    "\n",
    "        #este FOR nos da cada indice de columna\n",
    "    for columna_index in range(n):\n",
    "        #contamos el numero de torres que encontremos en cada columna\n",
    "        columna_count = 0\n",
    "        for fila_index in range(n):\n",
    "            columna_count += configuration_Board[fila_index][columna_index]\n",
    "        if columna_count > 1:\n",
    "            return False\n",
    "    return True\n",
    "\n",
    "rooks_are_safe([[1,0,0,0],\n",
    "                [0,1,0,0],\n",
    "                [0,0,0,1],\n",
    "                [0,0,0,0]])                                            \n",
    "\n",
    "                "
   ]
  },
  {
   "cell_type": "markdown",
   "metadata": {},
   "source": [
    "Ejercicio calentamiento: Retorna el numero de numeros negativos de la matriz"
   ]
  },
  {
   "cell_type": "code",
   "execution_count": 19,
   "metadata": {},
   "outputs": [
    {
     "name": "stdout",
     "output_type": "stream",
     "text": [
      "1\n",
      "2\n",
      "3\n",
      "4\n",
      "5\n",
      "6\n"
     ]
    }
   ],
   "source": [
    "array = [[-1,2,3,-4], [-1,2,3,-4], [-1,2,3,-4]]\n",
    "\n",
    "def devolver_negativo(array):\n",
    "    count = 0\n",
    "    \n",
    "    for fila in range(len(array)):\n",
    "        for columna in range(len(array[fila])):\n",
    "            if array[fila][columna] < 0:\n",
    "                count = count + 1\n",
    "                print(count)\n",
    "        \n",
    "devolver_negativo(array)"
   ]
  }
 ],
 "metadata": {
  "kernelspec": {
   "display_name": "Python 3.10.5 64-bit",
   "language": "python",
   "name": "python3"
  },
  "language_info": {
   "codemirror_mode": {
    "name": "ipython",
    "version": 3
   },
   "file_extension": ".py",
   "mimetype": "text/x-python",
   "name": "python",
   "nbconvert_exporter": "python",
   "pygments_lexer": "ipython3",
   "version": "3.10.5"
  },
  "orig_nbformat": 4,
  "vscode": {
   "interpreter": {
    "hash": "79e2c953b88fc71b6c3c1dbda58af322da5a9c58bab14d6cfec9d635fb737f03"
   }
  }
 },
 "nbformat": 4,
 "nbformat_minor": 2
}
